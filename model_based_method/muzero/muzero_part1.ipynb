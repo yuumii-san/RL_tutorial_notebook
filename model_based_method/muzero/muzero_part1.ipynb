{
 "cells": [
  {
   "cell_type": "markdown",
   "metadata": {},
   "source": [
    "# MuZero: Model-based RL (Part 1)"
   ]
  },
  {
   "cell_type": "markdown",
   "metadata": {},
   "source": [
    "In previous notebooks, I introduced various Reinforcement Learning (RL) methods such as [Q-learning](https://medium.com/@ym1942/find-an-optimal-policy-with-finite-markov-decision-process-part3-td-learning-557245c9735c), [Deep Q-learning](https://medium.com/@ym1942/deep-q-learning-dqn-tutorial-with-cartpole-v0-5505dbd2409e), and [Actor-Critic](https://medium.com/@ym1942/policy-gradient-methods-from-reinforce-to-actor-critic-d56ff0f0af0a). These methods typically assume that the dynamics of the environment are known. In other words, we know how the environment changes when taking a certain action, the rewards obtained in each state, and when the episode terminates.\n",
    "\n",
    "These RL methods, which do not require learning the environment's dynamics, are called model-free RL. They are model-free because the agent does not internally have or learn a model of the environment; the only goal is to learn the optimal policy through strategic interaction with the environment. This approach works when the environment's dynamics are defined and known. Board games such as Chess are examples of this, where we know exactly how the board changes with each move and the conditions for winning or losing.\n",
    "\n",
    "However, in real-life scenarios, we often do not know the environment's dynamics and must learn them through interaction. For example, a walking robot must figure out how the environment changes by moving parts of its body in certain ways. This kind of knowledge about the environment is called a \"dynamics model\" in RL. Methods that learn a world \"dynamics model\" through interaction with the environment are called model-based reinforcement learning.\n",
    "\n",
    "In this series of notebooks, we will learn one of such methods called Muzero developed by Google Deep Mind in 2020. Before Muzero, model-based algorithms did not enjoy success over model-free methods because:\n",
    "- Dynamics models are difficult to learn.\n",
    "- Errors in the dynamics model propagate over steps.\n",
    "    - If a dynamics model makes a large prediction error, there will be a significant gap between the actual and predicted agent states, complicating policy learning.\n",
    "- Environments with high-dimensional input spaces (e.g., images in Atari games) are difficult to learn.\n",
    "    - Even small pixel changes can create different environment states, requiring the agent to learn numerous patterns.\n",
    "\n",
    "MuZero is the first algorithm to solve these problems. It learns the dynamics model through interaction and uses it to learn the optimal action to take (i.e., policy).\n",
    "\n",
    "Here is our roadmap to learn MuZero:\n",
    "- Notebook 1: Self-play to collect training data (this notebook)\n",
    "- Notebook 2: Network weight update\n",
    "- Notebook 3: Integrate two components\n"
   ]
  },
  {
   "cell_type": "markdown",
   "metadata": {},
   "source": [
    "### Muzero overview"
   ]
  },
  {
   "cell_type": "markdown",
   "metadata": {},
   "source": [
    "Before diving into the main topic of this notebook (self-play to collect training data), let's briefly discuss the overview of MuZero to get the big picture.\n",
    "\n",
    "As mentioned earlier, MuZero learns the dynamics model of the environment to learn the optimal policy. Specifically, MuZero utilizes three deep learning models:\n",
    "- Representation function\n",
    "- Dynamics function\n",
    "- Prediction function\n",
    "\n",
    "We will soon talk about what each model does but I would like to note one important thing - **a key difference between MuZero and traditional model-based methods is the use of latent states**. MuZero uses latent states derived from the actual states to efficiently learn the dynamics and optimal policy.\n",
    "\n",
    "The representation function learns the mapping between the actual environment state and the latent state. The goal of this model is to extract a latent state that is helpful to accurately predict policies, values, and rewards. In other words, this function extracts key features of the environment relevant to policies, values, and rewards. Consider an Atari game environment where the input is a grid of pixels. In each frame, many pixel values change. However, changes in background pixels are less important than changes in pixels representing the main target or player. Traditional methods, which use the full input space to learn dynamics, must account for these irrelevant changes. In other words, the model has to learn the dynamics of the entire high-dimensional pixel images. With MuZero, the representation function extracts key features of the environment state, focusing on learning the dynamics related to them, making the learning process more efficient. The representation function receives the raw current state as input and returns the corresponding latent state.\n",
    "\n",
    "The dynamics function learns how the environment changes using the latent state. It receives the current latent state and action, returning the predicted next latent state and the predicted immediate reward at the next latent state. Again, the key difference with MuZero is the use of latent state encoding useful features to predict policies, values, and rewards. The predicted next latent state from the dynamics function does not have any semantic meaning other than containing useful information for prediction.\n",
    "\n",
    "The prediction function predicts the policy and value at a given latent state. It takes the latent state as input and outputs the predicted policy and value. After completing the model learning process, the predicted policy from this function is used when acting in the environment.\n",
    "\n",
    "In summary, what these functions do is that:\n",
    "1. The representation function extracts the latent state of the current state, including all key information about the environment to predict the value, reward, and policy.\n",
    "2. Given the current latent state, the dynamics function is used to run a mental simulation to predict what will happen in the future if the agent takes a certain action from the current state.\n",
    "3. The prediction function predicts the values and actions to take (policy) at each latent state while running the mental simulation with the dynamics function. The value and policy guide the mental simulation with the dynamics function.\n",
    "\n",
    "Remember that when the environment dynamics are known, an agent can use it to run the mental simulation to see what will happen if it takes a certain action. These three models are used to run a mental simulation even when the environment dynamics are unknown. To fit these three models, we need to collect sample experiences. How should we do this? In this notebook, we focus on how to collect the training data to fit these three models."
   ]
  },
  {
   "cell_type": "markdown",
   "metadata": {},
   "source": [
    "### Monte Carlo Tree Search to collect training samples"
   ]
  },
  {
   "cell_type": "markdown",
   "metadata": {},
   "source": [
    "MuZero uses Monte Carlo Tree Search (MCTS) to collect training samples through self-play. MCTS consists of four steps:\n",
    "1. Selection: Traverse the current tree from the root node using the Upper Confidence Bound (UCB).\n",
    "2. Expansion: Add a child node to the leaf node which is optimally reached through the selection process.\n",
    "3. Simulation: Perform a random simulation from the expanded child node to a terminating state.\n",
    "4. Backpropagation: Update the value of each ancestor node using the expected value.\n",
    "\n",
    "For a more detailed introduction to MCTS, check [this page](https://www.geeksforgeeks.org/ml-monte-carlo-tree-search-mcts/).\n",
    "\n",
    "MuZero modifies MCTS to work with latent states. Another difference is that instead of running a random simulation from the leaf node, MuZero uses bootstrapping, which employs the expected value at a node as the value estimate, similar to [TD-learning](https://medium.com/@ym1942/find-an-optimal-policy-with-finite-markov-decision-process-part3-td-learning-557245c9735c).\n",
    "\n",
    "Let's see the implementation of this process step by step."
   ]
  },
  {
   "cell_type": "code",
   "execution_count": 1,
   "metadata": {},
   "outputs": [],
   "source": [
    "# Import packages\n",
    "import sys\n",
    "import os\n",
    "\n",
    "import gymnasium as gym\n",
    "import numpy as np\n",
    "import matplotlib.pyplot as plt\n",
    "from IPython.display import clear_output\n",
    "from IPython import display\n",
    "\n",
    "import torch\n"
   ]
  },
  {
   "cell_type": "markdown",
   "metadata": {},
   "source": [
    "### Prepare gym environment"
   ]
  },
  {
   "cell_type": "markdown",
   "metadata": {},
   "source": [
    "In this series of notebooks, we utilize the CartPole-v0 environment in Gymnasium.\n",
    "\n",
    "[Learn more about the CartPole-v0 environment](https://gymnasium.farama.org/environments/classic_control/cart_pole/)\n",
    "\n",
    "The goal of this environment is to balance a pole by applying forces in the left and right directions on the cart. It has a discrete action space:\n",
    "- 0: Push cart to the left\n",
    "- 1: Push cart to the right\n",
    "\n",
    "Upon taking an action, either left or right, an agent observes a 4-dimensional state consisting of:\n",
    "- Cart Position\n",
    "- Cart Velocity\n",
    "- Pole Angle\n",
    "- Pole Angular Velocity\n",
    "\n",
    "A reward of +1 is granted to the agent at each step while the pole is kept upright. The maximum reward an agent can earn in a single episode is 200.\n",
    "\n",
    "The episode ends under the following conditions:\n",
    "- Termination: Pole Angle is greater than ±12°\n",
    "- Termination: Cart Position is greater than ±2.4 (center of the cart reaches the edge of the display)\n",
    "- Truncation: Episode length exceeds 200 steps\n",
    "\n",
    "In the code below, I provide an example of the agent randomly exploring this environment over 20 time steps.\n"
   ]
  },
  {
   "cell_type": "code",
   "execution_count": 2,
   "metadata": {},
   "outputs": [
    {
     "data": {
      "image/png": "[encoded data removed]",
      "text/plain": [
       "<Figure size 640x480 with 1 Axes>"
      ]
     },
     "metadata": {},
     "output_type": "display_data"
    }
   ],
   "source": [
    "# Create CartPole environment\n",
    "env = gym.make('CartPole-v0', render_mode='rgb_array')\n",
    "state, _ = env.reset()\n",
    "\n",
    "# Run the environment for 20 steps\n",
    "for i in range(20):\n",
    "    # Display the current state of the environment\n",
    "    plt.imshow(env.render())\n",
    "    display.display(plt.gcf())\n",
    "    display.clear_output(wait=True)\n",
    "    \n",
    "    # Choose a random action from the action space\n",
    "    action = env.action_space.sample()\n",
    "    \n",
    "    # Take the chosen action and observe the next state, reward, and termination status\n",
    "    state, reward, terminated, truncated, info = env.step(action)\n",
    "    \n",
    "    # If the episode is terminated or truncated, reset the environment\n",
    "    if terminated or truncated:\n",
    "        state, info = env.reset()\n",
    "\n",
    "# Close the environment after exploration\n",
    "env.close()\n"
   ]
  },
  {
   "cell_type": "markdown",
   "metadata": {},
   "source": [
    "### Code overview for the training sample collection process"
   ]
  },
  {
   "cell_type": "markdown",
   "metadata": {},
   "source": [
    "The below code shows the overview of the sample collection process by playing one game. MuZero iteratively runs the below code multiple times to collect experience over many games. In this notebook, we will learn 6 components of this code."
   ]
  },
  {
   "cell_type": "code",
   "execution_count": 17,
   "metadata": {},
   "outputs": [],
   "source": [
    "config = {\n",
    "          # Simulation and environment Config\n",
    "          'action_space_size': 2, # number of potential action\n",
    "          'max_moves': 200, # max number of action in one game\n",
    "          'num_simulations': 50, # number of MCTS simulation to perform at each root node\n",
    "          'discount': 0.997, # value discount rate used with bootstrapping\n",
    "          'min_value': 0,\n",
    "          'max_value': 200,\n",
    "\n",
    "          # Parameters to balance exploitation and exploration during MCTS\n",
    "          'root_dirichlet_alpha': 0.1, # \n",
    "          'root_exploration_fraction': 0.25,\n",
    "\n",
    "          # Upper Confidence Bound (UCB) hyperparameters (used in the MuZero paper)\n",
    "          'pb_c_base': 19652,\n",
    "          'pb_c_init': 1.25,\n",
    "}\n",
    "\n",
    "def play_game(network, env):\n",
    "    \"\"\"\n",
    "    Plays one game\n",
    "    network: network models used in MCTS unrolling\n",
    "    env: gym environment\n",
    "    \"\"\"\n",
    "    # Initialize environment\n",
    "    start_state, _ = env.reset()\n",
    "\n",
    "    # (1) Create Game Object to store game play log\n",
    "    game = Game(config['action_space_size'], config['discount'], start_state)\n",
    "    \n",
    "    # Play a game using MCTS until game will be done or max_moves will be reached\n",
    "    while not game.done and len(game.action_history) < config['max_moves']:\n",
    "        # (2) Create Node Object to store information about the root node\n",
    "        root = Node(0)\n",
    "    \n",
    "        # (3) Create MinMaxStats Object to normalize values\n",
    "        min_max_stats = MinMaxStats(min_value, max_value)\n",
    "        \n",
    "        # (4) Expand the current root node\n",
    "        curr_state = game.curr_state\n",
    "        expand_root(root, list(range(config['action_space_size'])),\n",
    "                    network, curr_state)\n",
    "        \n",
    "        # (5) Run MCTS\n",
    "        run_mcts(config, root, network, min_max_stats)\n",
    "        \n",
    "        # (6) Select an action to take\n",
    "        action = select_action(config, root, network)        \n",
    "\n",
    "        # Take an action and store tree search statistics\n",
    "        game.take_action(action, env)\n",
    "        game.store_search_statistics(root)\n",
    "    return game"
   ]
  },
  {
   "cell_type": "markdown",
   "metadata": {},
   "source": [
    "### (1) Create a Game Object to store game play log"
   ]
  },
  {
   "cell_type": "markdown",
   "metadata": {},
   "source": [
    "The first step is to create a Game class object to store logs of self-play. The data observed during self-play such as normalized visit count (i.e. visit probability) and expected value of the root node will be stored and used to train deep learning networks."
   ]
  },
  {
   "cell_type": "code",
   "execution_count": 8,
   "metadata": {},
   "outputs": [],
   "source": [
    "class Game:\n",
    "    \"\"\"\n",
    "    A single episode of interaction with the environment.\n",
    "    \"\"\"\n",
    "    def __init__(self, action_space_size, discount, curr_state):\n",
    "\n",
    "        self.action_space_size = action_space_size\n",
    "        self.curr_state = curr_state\n",
    "        self.done = False\n",
    "        self.discount = discount\n",
    "        self.priorities = None\n",
    "\n",
    "        self.state_history = [self.curr_state]\n",
    "        self.action_history = []\n",
    "        self.reward_history = []\n",
    "\n",
    "        self.root_values = []\n",
    "        self.child_visits = []\n",
    "\n",
    "    def take_action(self, action, env):\n",
    "        \"\"\"\n",
    "        Take an action and store the action, reward, and new state\n",
    "        \"\"\"\n",
    "        observation, reward, terminated, truncated, _ = env.step(action)\n",
    "        self.curr_state = observation\n",
    "        self.action_history.append(action)\n",
    "        self.reward_history.append(reward)\n",
    "        self.done = terminated | truncated\n",
    "        if not self.done:\n",
    "            self.state_history.append(self.curr_state)\n",
    "\n",
    "    def store_search_statistics(self, root):\n",
    "        \"\"\"\n",
    "        Stores the search statistics for the root node\n",
    "        \"\"\"\n",
    "        # Stores the normalized root node child visits (i.e. policy target)\n",
    "        sum_visits = sum(child.visit_count for child in root.children.values())\n",
    "        self.child_visits.append(np.array([\n",
    "            root.children[a].visit_count\n",
    "            / sum_visits if a in root.children else 0\n",
    "            for a in range(self.action_space_size)\n",
    "        ]))\n",
    "        \n",
    "        # Stores the root node value, computed from the MCTS (i.e. vlaue target)\n",
    "        self.root_values.append(root.value())\n"
   ]
  },
  {
   "cell_type": "markdown",
   "metadata": {},
   "source": [
    "### (2) Create a Node Object to store information about the root node"
   ]
  },
  {
   "cell_type": "markdown",
   "metadata": {},
   "source": [
    "Next, we define a Node class to store information about each node during MCTS. This class object contains key attributes to represent each node, such as the total visit count, total value, and the hidden representation of the node. Below is the implementation."
   ]
  },
  {
   "cell_type": "code",
   "execution_count": 9,
   "metadata": {},
   "outputs": [],
   "source": [
    "class Node(object):\n",
    "    \n",
    "    def __init__(self, prior):\n",
    "        \"\"\"\n",
    "        Node in MCTS\n",
    "        prior: The prior policy on the node, computed from policy network\n",
    "        \"\"\"\n",
    "        self.visit_count = 0\n",
    "        self.prior = prior\n",
    "        self.value_sum = 0\n",
    "        self.children = {}\n",
    "        self.hidden_representation = None\n",
    "        self.reward = 0\n",
    "        self.expanded = False\n",
    "\n",
    "    def value(self):\n",
    "        \"\"\"\n",
    "        Compute expected value of a node\n",
    "        \"\"\"\n",
    "        if self.visit_count == 0:\n",
    "            return 0\n",
    "        else:\n",
    "            return self.value_sum / self.visit_count"
   ]
  },
  {
   "cell_type": "markdown",
   "metadata": {},
   "source": [
    "### (3) Create a MinMaxStats Object to normalize values"
   ]
  },
  {
   "cell_type": "markdown",
   "metadata": {},
   "source": [
    "We also create a MinMaxStats class object to normalize the observed value. This class stores the max and min values of the environment to transform the observed value into a range between 0 and 1."
   ]
  },
  {
   "cell_type": "code",
   "execution_count": null,
   "metadata": {},
   "outputs": [],
   "source": [
    "class MinMaxStats(object):\n",
    "    \"\"\"\n",
    "    Store the min-max values of the environment to normalize the values\n",
    "    Max value will be 1 and min value will be 0\n",
    "    \"\"\"\n",
    "\n",
    "    def __init__(self, minimum, maximum):\n",
    "        self.maximum = maximum\n",
    "        self.minimum = minimum\n",
    "\n",
    "    def update(self, value: float):\n",
    "        self.maximum = max(self.maximum, value)\n",
    "        self.minimum = min(self.minimum, value)\n",
    "\n",
    "    def normalize(self, value: float) -> float:\n",
    "        if self.maximum > self.minimum:\n",
    "            # We normalize only when we have set the maximum and minimum values.\n",
    "            return (value - self.minimum) / (self.maximum - self.minimum)\n",
    "        return value"
   ]
  },
  {
   "cell_type": "markdown",
   "metadata": {},
   "source": [
    "### (4) Expand the current root node"
   ]
  },
  {
   "cell_type": "markdown",
   "metadata": {},
   "source": [
    "To start running MCTS, we first expand the root node. expand_root function runs initial_inference function, which uses representation and prediction functions to get the latent representation, predicted policy, and predicted value of the current root node. We will learn the detailed implementation of initial_inference function in the next notebook. \n",
    "\n",
    "The obtained results are stored in Node object representing the current root node. The obtained policy is used as the probability to choose each child node. MuZero uses a Dirichlet random variable to add some randomness to the prior probability of choosing each child. This randomness helps to explore different children during MCTC."
   ]
  },
  {
   "cell_type": "code",
   "execution_count": 10,
   "metadata": {},
   "outputs": [],
   "source": [
    "def expand_root(node, actions, network, current_state):\n",
    "    \"\"\"\n",
    "    Expand the root node given the current state\n",
    "    \"\"\"\n",
    "    # obtain the latent state of the root node by using representation and prediction functions\n",
    "    observation = torch.tensor(current_state)\n",
    "    transformed_value, reward, policy_logits, hidden_representation = network.initial_inference(observation)\n",
    "    node.hidden_representation = hidden_representation\n",
    "    node.reward = reward\n",
    "    node.visit_count = 1\n",
    "    node.value_sum = transformed_value\n",
    "\n",
    "    # extract softmax policy and set node.policy\n",
    "    softmax_policy = torch.nn.functional.softmax(torch.squeeze(policy_logits))\n",
    "    node.policy = softmax_policy\n",
    "\n",
    "    # instantiate node's children with prior values, obtained from the predicted policy\n",
    "    for action, prob in zip(actions, softmax_policy):\n",
    "        child = Node(prob)\n",
    "        node.children[action] = child\n",
    "    \n",
    "    # add exploration noise\n",
    "    actions = list(node.children.keys())\n",
    "    noise = np.random.dirichlet([config['root_dirichlet_alpha']]*len(actions))\n",
    "    frac = config['root_exploration_fraction']\n",
    "    for a, n in zip(actions, noise):\n",
    "        node.children[a].prior = node.children[a].prior * (1-frac) + n*frac\n",
    "\n",
    "    # set node as expanded\n",
    "    node.expanded = True\n",
    "    "
   ]
  },
  {
   "cell_type": "markdown",
   "metadata": {},
   "source": [
    "### (5) Run MCTS"
   ]
  },
  {
   "cell_type": "markdown",
   "metadata": {},
   "source": [
    "run_mcts function is the main function to run MCTS. It mainly runs three steps:\n",
    "1) Starting from the root node, expand the node based on Upper Confidence Bound score until reaching a node, which has not expanded yet (called a leaf node)\n",
    "2) Expand the leaf node by using networks \n",
    "3) Perform backpropagation to update search statistics of each node upto the root node"
   ]
  },
  {
   "cell_type": "code",
   "execution_count": 11,
   "metadata": {},
   "outputs": [],
   "source": [
    "def run_mcts(config, root, network, min_max_stats):\n",
    "    \"\"\"\n",
    "    Run the main loop of MCTS for config['num_simulations'] simulations\n",
    "\n",
    "    root: the root node\n",
    "    network: the network\n",
    "    min_max_stats: the min max stats object\n",
    "    \"\"\"\n",
    "    for i in range(config['num_simulations']):\n",
    "        history = []\n",
    "        node = root\n",
    "        search_path = [node]\n",
    "\n",
    "        # 1. expand node until reaching the leaf node\n",
    "        while node.expanded:\n",
    "            action, node = select_child(config, node, min_max_stats)\n",
    "            history.append(action)\n",
    "            search_path.append(node)\n",
    "        parent = search_path[-2]\n",
    "        action = history[-1]\n",
    "        \n",
    "        # 2. expand the leaf node\n",
    "        value = expand_node(node, list(\n",
    "            range(config['action_space_size'])), network, parent.hidden_representation, action)\n",
    "        \n",
    "        # 3. perform backpropagation\n",
    "        backpropagate(search_path, value,\n",
    "                    config['discount'], min_max_stats)\n",
    "        "
   ]
  },
  {
   "cell_type": "markdown",
   "metadata": {},
   "source": [
    "#### (5)-1. Select child"
   ]
  },
  {
   "cell_type": "markdown",
   "metadata": {},
   "source": [
    "Until reaching the leaf node, select_child function chooses a child with the maximum Upper Confidence Bounds (UCB) score to expand the current node. For more detail on the UCB score, please refer to [Appendix B of the MuZero paper](https://arxiv.org/pdf/1911.08265#page=14.33). "
   ]
  },
  {
   "cell_type": "code",
   "execution_count": 12,
   "metadata": {},
   "outputs": [],
   "source": [
    "def select_child(config, node, min_max_stats):\n",
    "    \"\"\"\n",
    "    Select a child at an already expanded node\n",
    "    Selection is based on the UCB score\n",
    "    \"\"\"\n",
    "    best_action, best_child = None, None\n",
    "    ucb_compare = -np.inf\n",
    "    for action,child in node.children.items():\n",
    "        ucb = ucb_score(config, node, child, min_max_stats)\n",
    "        if ucb > ucb_compare:\n",
    "            ucb_compare = ucb\n",
    "            best_action = action # action, int\n",
    "            best_child = child # node object\n",
    "    return best_action, best_child\n",
    "\n",
    "\n",
    "def ucb_score(config, parent, child, min_max_stats):\n",
    "    \"\"\"\n",
    "    Compute UCB Score of a child given the parent statistics\n",
    "    \"\"\"\n",
    "    pb_c = np.log((parent.visit_count + config['pb_c_base'] + 1)\n",
    "                / config['pb_c_base']) + config['pb_c_init']\n",
    "    pb_c *= np.sqrt(parent.visit_count) / (child.visit_count + 1)\n",
    "\n",
    "    prior_score = pb_c*child.prior.detach().numpy()\n",
    "    if child.visit_count > 0:\n",
    "        value_score = min_max_stats.normalize(\n",
    "            child.reward + config['discount']*child.value())\n",
    "    else:\n",
    "        value_score = 0\n",
    "    return prior_score + value_score\n",
    "    "
   ]
  },
  {
   "cell_type": "markdown",
   "metadata": {},
   "source": [
    "#### (5)-2. Expand node"
   ]
  },
  {
   "cell_type": "markdown",
   "metadata": {},
   "source": [
    "After reaching the leaf node, expand_node function expands the leaf node. It uses recurrent_inference function, which leverages dynamics and prediction functions to obtain the predicted reward, policy, value, and next latent state. The obtained outputs are used to register the information about the leaf node and children nodes. We will learn the detailed implementation of recurrent_inference function in the next notebook. "
   ]
  },
  {
   "cell_type": "code",
   "execution_count": 13,
   "metadata": {},
   "outputs": [],
   "source": [
    "def expand_node(node, actions, network, parent_state, parent_action):\n",
    "    \"\"\"\n",
    "    Expand a leaf node given the parent state and action\n",
    "    \"\"\"\n",
    "    # run recurrent inference at the leaf node\n",
    "    transformed_value, reward, policy_logits, hidden_representation = network.recurrent_inference(parent_state, parent_action)\n",
    "    node.hidden_representation = hidden_representation\n",
    "    node.reward = reward\n",
    "\n",
    "    # compute softmax policy and store it to node.policy\n",
    "    softmax_policy = torch.nn.functional.softmax(torch.squeeze(policy_logits))\n",
    "    node.policy = softmax_policy\n",
    "\n",
    "    # instantiate node's children with prior values, obtained from the predicted softmax policy\n",
    "    for action, prob in zip(actions,softmax_policy):\n",
    "        child = Node(prob)\n",
    "        node.children[action] = child\n",
    "\n",
    "    # set node as expanded\n",
    "    node.expanded = True\n",
    "    \n",
    "    return transformed_value\n",
    "        "
   ]
  },
  {
   "cell_type": "markdown",
   "metadata": {},
   "source": [
    "#### (5)-3. Backpropagation"
   ]
  },
  {
   "cell_type": "markdown",
   "metadata": {},
   "source": [
    "After expanding the leaf node, MuZero runs backpropagation. In backward order, it updates the node statistics (total visit count and total value) of each node upto the root node. The discount rate is used to compute the discounted value. "
   ]
  },
  {
   "cell_type": "code",
   "execution_count": 14,
   "metadata": {},
   "outputs": [],
   "source": [
    "def backpropagate(path, value, discount, min_max_stats):\n",
    "    \"\"\"\n",
    "    Update a discounted total value and total visit count\n",
    "    \"\"\"\n",
    "    for node in reversed(path):\n",
    "        node.visit_count += 1\n",
    "        node.value_sum += value \n",
    "        min_max_stats.update(node.value())\n",
    "        value = node.reward + discount * value"
   ]
  },
  {
   "cell_type": "markdown",
   "metadata": {},
   "source": [
    "### (6) Select and take an action from the root"
   ]
  },
  {
   "cell_type": "markdown",
   "metadata": {},
   "source": [
    "After performing multiple self-play simulations from the root node with run_mcts function, MuZero chooses the actual action to take to move to the next state. It chooses the action based on the visit count of each child. During a network training phase, it chooses action stochastically. During a test phase, it chooses action deterministically based on argmax policy."
   ]
  },
  {
   "cell_type": "code",
   "execution_count": 15,
   "metadata": {},
   "outputs": [],
   "source": [
    "def select_action(config, node, test=False):\n",
    "    \"\"\"\n",
    "    Select an action to take\n",
    "    train mode: action selection is performed stochastically\n",
    "    test mode: action selection is performed deterministically (argmax)\n",
    "    \"\"\"\n",
    "    visit_counts = [\n",
    "        (child.visit_count, action) for action, child in node.children.items()\n",
    "    ]\n",
    "    if not test:\n",
    "        action = softmax_sample(visit_counts, 1)\n",
    "    else:\n",
    "        action = softmax_sample(visit_counts, 0)\n",
    "    return action\n",
    "\n",
    "\n",
    "def softmax_sample(visit_counts, temperature):\n",
    "    \"\"\"\n",
    "    Sample an action\n",
    "    \"\"\"\n",
    "    counts_arr = np.array([c[0] for c in visit_counts])\n",
    "    if temperature == 0: # argmax\n",
    "        action_idx = np.argmax(counts_arr)\n",
    "    else:\n",
    "        numerator = np.power(counts_arr, 1/temperature)\n",
    "        denominator = np.sum(numerator)\n",
    "        dist = numerator / denominator\n",
    "        action_idx = np.random.choice(np.arange(len(counts_arr)), p=dist)\n",
    "\n",
    "    return action_idx"
   ]
  },
  {
   "cell_type": "markdown",
   "metadata": {},
   "source": [
    "### Summary"
   ]
  },
  {
   "cell_type": "markdown",
   "metadata": {},
   "source": [
    "In this notebook, we learned how MuZero collects training samples with self-play using Monte Carlo Tree Search. In the next notebook, we will learn the details of deep learning models used in MuZero."
   ]
  }
 ],
 "metadata": {
  "kernelspec": {
   "display_name": "pokemon",
   "language": "python",
   "name": "python3"
  },
  "language_info": {
   "codemirror_mode": {
    "name": "ipython",
    "version": 3
   },
   "file_extension": ".py",
   "mimetype": "text/x-python",
   "name": "python",
   "nbconvert_exporter": "python",
   "pygments_lexer": "ipython3",
   "version": "3.7.16"
  }
 },
 "nbformat": 4,
 "nbformat_minor": 2
}
